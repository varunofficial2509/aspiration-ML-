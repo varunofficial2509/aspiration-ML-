{
  "nbformat": 4,
  "nbformat_minor": 0,
  "metadata": {
    "celltoolbar": "Raw Cell Format",
    "kernelspec": {
      "display_name": "Python 3",
      "language": "python",
      "name": "python3"
    },
    "language_info": {
      "codemirror_mode": {
        "name": "ipython",
        "version": 3
      },
      "file_extension": ".py",
      "mimetype": "text/x-python",
      "name": "python",
      "nbconvert_exporter": "python",
      "pygments_lexer": "ipython3",
      "version": "3.7.6"
    },
    "colab": {
      "name": "Module 1- Pandas.ipynb",
      "provenance": [],
      "include_colab_link": true
    }
  },
  "cells": [
    {
      "cell_type": "markdown",
      "metadata": {
        "id": "view-in-github",
        "colab_type": "text"
      },
      "source": [
        "<a href=\"https://colab.research.google.com/github/varunofficial2509/aspiration-ML-/blob/master/Module_1_Pandas.ipynb\" target=\"_parent\"><img src=\"https://colab.research.google.com/assets/colab-badge.svg\" alt=\"Open In Colab\"/></a>"
      ]
    },
    {
      "cell_type": "markdown",
      "metadata": {
        "id": "xIUBb17EvxG5",
        "colab_type": "text"
      },
      "source": [
        "# Module 1"
      ]
    },
    {
      "cell_type": "markdown",
      "metadata": {
        "id": "1FFVju0FvxG6",
        "colab_type": "text"
      },
      "source": [
        "   ### Welcome to the Answer notebook for Module 1 ! \n",
        "These notebooks have been provided to code and solve all the queries asked in the modules.\n",
        "\n",
        "This environment has all the necessary libraries pre-installed, and all the Stock, Commodities and Index data files available at the following location - \n",
        "\n"
      ]
    },
    {
      "cell_type": "markdown",
      "metadata": {
        "id": "gkwfkWYwvxG7",
        "colab_type": "text"
      },
      "source": [
        "#### The problem statements and their corresponding answers are expected to be in the following format - \n"
      ]
    },
    {
      "cell_type": "markdown",
      "metadata": {
        "id": "8rfbIIoYvxG7",
        "colab_type": "text"
      },
      "source": [
        "#--------------------------------------------------------------------------------------------------------------------------------------------------------------------------------------------------------#"
      ]
    },
    {
      "cell_type": "markdown",
      "metadata": {
        "id": "QRTZPF2KvxG8",
        "colab_type": "text"
      },
      "source": [
        "### Query 1.1 \n",
        "Import the csv file of the stock of your choosing using 'pd.read_csv()' function into a dataframe.\n",
        "Shares of a company can be offered in more than one category. The category of a stock is indicated in the ‘Series’ column. If the csv file has data on more than one category, the ‘Date’ column will have repeating values. To avoid repetitions in the date, remove all the rows where 'Series' column is NOT 'EQ'.\n",
        "Analyze and understand each column properly.\n",
        "You'd find the head(), tail() and describe() functions to be immensely useful for exploration. You're free to carry out any other exploration of your own."
      ]
    },
    {
      "cell_type": "code",
      "metadata": {
        "id": "TCI2YU9BvxG-",
        "colab_type": "code",
        "colab": {}
      },
      "source": [
        "import numpy as np\n",
        "import pandas as pd\n",
        "import matplotlib.pyplot\n",
        "import datetime as dt\n",
        "import warnings\n",
        "warnings.filterwarnings('ignore')"
      ],
      "execution_count": null,
      "outputs": []
    },
    {
      "cell_type": "code",
      "metadata": {
        "id": "HYNDgBL_vxHC",
        "colab_type": "code",
        "colab": {},
        "outputId": "75e43fe9-ac09-455b-d92b-16395e54927f"
      },
      "source": [
        "dataset = pd.read_csv(r\"C:/Users/HP/Downloads/TCS.csv\")\n",
        "dataset = dataset[dataset.Series == 'EQ']\n",
        "dataset"
      ],
      "execution_count": null,
      "outputs": [
        {
          "output_type": "execute_result",
          "data": {
            "text/html": [
              "<div>\n",
              "<style scoped>\n",
              "    .dataframe tbody tr th:only-of-type {\n",
              "        vertical-align: middle;\n",
              "    }\n",
              "\n",
              "    .dataframe tbody tr th {\n",
              "        vertical-align: top;\n",
              "    }\n",
              "\n",
              "    .dataframe thead th {\n",
              "        text-align: right;\n",
              "    }\n",
              "</style>\n",
              "<table border=\"1\" class=\"dataframe\">\n",
              "  <thead>\n",
              "    <tr style=\"text-align: right;\">\n",
              "      <th></th>\n",
              "      <th>Symbol</th>\n",
              "      <th>Series</th>\n",
              "      <th>Date</th>\n",
              "      <th>Prev Close</th>\n",
              "      <th>Open Price</th>\n",
              "      <th>High Price</th>\n",
              "      <th>Low Price</th>\n",
              "      <th>Last Price</th>\n",
              "      <th>Close Price</th>\n",
              "      <th>Average Price</th>\n",
              "      <th>Total Traded Quantity</th>\n",
              "      <th>Turnover</th>\n",
              "      <th>No. of Trades</th>\n",
              "      <th>Deliverable Qty</th>\n",
              "      <th>% Dly Qt to Traded Qty</th>\n",
              "    </tr>\n",
              "  </thead>\n",
              "  <tbody>\n",
              "    <tr>\n",
              "      <th>0</th>\n",
              "      <td>TCS</td>\n",
              "      <td>EQ</td>\n",
              "      <td>15-May-2017</td>\n",
              "      <td>2360.65</td>\n",
              "      <td>2375.10</td>\n",
              "      <td>2377.95</td>\n",
              "      <td>2341.60</td>\n",
              "      <td>2368.00</td>\n",
              "      <td>2365.10</td>\n",
              "      <td>2352.60</td>\n",
              "      <td>908802</td>\n",
              "      <td>2.138043e+09</td>\n",
              "      <td>30047</td>\n",
              "      <td>712450</td>\n",
              "      <td>78.39</td>\n",
              "    </tr>\n",
              "    <tr>\n",
              "      <th>1</th>\n",
              "      <td>TCS</td>\n",
              "      <td>EQ</td>\n",
              "      <td>16-May-2017</td>\n",
              "      <td>2365.10</td>\n",
              "      <td>2380.00</td>\n",
              "      <td>2435.00</td>\n",
              "      <td>2373.45</td>\n",
              "      <td>2425.10</td>\n",
              "      <td>2429.15</td>\n",
              "      <td>2410.26</td>\n",
              "      <td>1800513</td>\n",
              "      <td>4.339703e+09</td>\n",
              "      <td>58476</td>\n",
              "      <td>1167534</td>\n",
              "      <td>64.84</td>\n",
              "    </tr>\n",
              "    <tr>\n",
              "      <th>2</th>\n",
              "      <td>TCS</td>\n",
              "      <td>EQ</td>\n",
              "      <td>17-May-2017</td>\n",
              "      <td>2429.15</td>\n",
              "      <td>2433.50</td>\n",
              "      <td>2460.75</td>\n",
              "      <td>2423.00</td>\n",
              "      <td>2450.00</td>\n",
              "      <td>2455.35</td>\n",
              "      <td>2443.31</td>\n",
              "      <td>1438099</td>\n",
              "      <td>3.513729e+09</td>\n",
              "      <td>86412</td>\n",
              "      <td>1031752</td>\n",
              "      <td>71.74</td>\n",
              "    </tr>\n",
              "    <tr>\n",
              "      <th>3</th>\n",
              "      <td>TCS</td>\n",
              "      <td>EQ</td>\n",
              "      <td>18-May-2017</td>\n",
              "      <td>2455.35</td>\n",
              "      <td>2450.00</td>\n",
              "      <td>2572.00</td>\n",
              "      <td>2442.25</td>\n",
              "      <td>2525.00</td>\n",
              "      <td>2536.20</td>\n",
              "      <td>2525.78</td>\n",
              "      <td>2569297</td>\n",
              "      <td>6.489478e+09</td>\n",
              "      <td>111566</td>\n",
              "      <td>1135613</td>\n",
              "      <td>44.20</td>\n",
              "    </tr>\n",
              "    <tr>\n",
              "      <th>4</th>\n",
              "      <td>TCS</td>\n",
              "      <td>EQ</td>\n",
              "      <td>19-May-2017</td>\n",
              "      <td>2536.20</td>\n",
              "      <td>2536.20</td>\n",
              "      <td>2540.55</td>\n",
              "      <td>2486.00</td>\n",
              "      <td>2503.85</td>\n",
              "      <td>2507.15</td>\n",
              "      <td>2506.58</td>\n",
              "      <td>893022</td>\n",
              "      <td>2.238430e+09</td>\n",
              "      <td>63112</td>\n",
              "      <td>517461</td>\n",
              "      <td>57.94</td>\n",
              "    </tr>\n",
              "    <tr>\n",
              "      <th>...</th>\n",
              "      <td>...</td>\n",
              "      <td>...</td>\n",
              "      <td>...</td>\n",
              "      <td>...</td>\n",
              "      <td>...</td>\n",
              "      <td>...</td>\n",
              "      <td>...</td>\n",
              "      <td>...</td>\n",
              "      <td>...</td>\n",
              "      <td>...</td>\n",
              "      <td>...</td>\n",
              "      <td>...</td>\n",
              "      <td>...</td>\n",
              "      <td>...</td>\n",
              "      <td>...</td>\n",
              "    </tr>\n",
              "    <tr>\n",
              "      <th>493</th>\n",
              "      <td>TCS</td>\n",
              "      <td>EQ</td>\n",
              "      <td>07-May-2019</td>\n",
              "      <td>2157.85</td>\n",
              "      <td>2160.05</td>\n",
              "      <td>2184.35</td>\n",
              "      <td>2138.80</td>\n",
              "      <td>2154.00</td>\n",
              "      <td>2151.95</td>\n",
              "      <td>2163.53</td>\n",
              "      <td>2201698</td>\n",
              "      <td>4.763441e+09</td>\n",
              "      <td>86096</td>\n",
              "      <td>975603</td>\n",
              "      <td>44.31</td>\n",
              "    </tr>\n",
              "    <tr>\n",
              "      <th>494</th>\n",
              "      <td>TCS</td>\n",
              "      <td>EQ</td>\n",
              "      <td>08-May-2019</td>\n",
              "      <td>2151.95</td>\n",
              "      <td>2151.00</td>\n",
              "      <td>2168.00</td>\n",
              "      <td>2130.40</td>\n",
              "      <td>2156.00</td>\n",
              "      <td>2152.85</td>\n",
              "      <td>2151.85</td>\n",
              "      <td>1824895</td>\n",
              "      <td>3.926902e+09</td>\n",
              "      <td>77713</td>\n",
              "      <td>781526</td>\n",
              "      <td>42.83</td>\n",
              "    </tr>\n",
              "    <tr>\n",
              "      <th>495</th>\n",
              "      <td>TCS</td>\n",
              "      <td>EQ</td>\n",
              "      <td>09-May-2019</td>\n",
              "      <td>2152.85</td>\n",
              "      <td>2145.00</td>\n",
              "      <td>2184.10</td>\n",
              "      <td>2136.10</td>\n",
              "      <td>2171.20</td>\n",
              "      <td>2172.55</td>\n",
              "      <td>2166.98</td>\n",
              "      <td>2264162</td>\n",
              "      <td>4.906405e+09</td>\n",
              "      <td>106297</td>\n",
              "      <td>1251459</td>\n",
              "      <td>55.27</td>\n",
              "    </tr>\n",
              "    <tr>\n",
              "      <th>496</th>\n",
              "      <td>TCS</td>\n",
              "      <td>EQ</td>\n",
              "      <td>10-May-2019</td>\n",
              "      <td>2172.55</td>\n",
              "      <td>2175.00</td>\n",
              "      <td>2192.00</td>\n",
              "      <td>2125.85</td>\n",
              "      <td>2130.25</td>\n",
              "      <td>2135.80</td>\n",
              "      <td>2161.83</td>\n",
              "      <td>2039633</td>\n",
              "      <td>4.409349e+09</td>\n",
              "      <td>85446</td>\n",
              "      <td>873181</td>\n",
              "      <td>42.81</td>\n",
              "    </tr>\n",
              "    <tr>\n",
              "      <th>497</th>\n",
              "      <td>TCS</td>\n",
              "      <td>EQ</td>\n",
              "      <td>13-May-2019</td>\n",
              "      <td>2135.80</td>\n",
              "      <td>2133.00</td>\n",
              "      <td>2167.00</td>\n",
              "      <td>2121.65</td>\n",
              "      <td>2134.00</td>\n",
              "      <td>2128.75</td>\n",
              "      <td>2143.87</td>\n",
              "      <td>1701744</td>\n",
              "      <td>3.648325e+09</td>\n",
              "      <td>74014</td>\n",
              "      <td>677242</td>\n",
              "      <td>39.80</td>\n",
              "    </tr>\n",
              "  </tbody>\n",
              "</table>\n",
              "<p>494 rows × 15 columns</p>\n",
              "</div>"
            ],
            "text/plain": [
              "    Symbol Series         Date  Prev Close  Open Price  High Price  Low Price  \\\n",
              "0      TCS     EQ  15-May-2017     2360.65     2375.10     2377.95    2341.60   \n",
              "1      TCS     EQ  16-May-2017     2365.10     2380.00     2435.00    2373.45   \n",
              "2      TCS     EQ  17-May-2017     2429.15     2433.50     2460.75    2423.00   \n",
              "3      TCS     EQ  18-May-2017     2455.35     2450.00     2572.00    2442.25   \n",
              "4      TCS     EQ  19-May-2017     2536.20     2536.20     2540.55    2486.00   \n",
              "..     ...    ...          ...         ...         ...         ...        ...   \n",
              "493    TCS     EQ  07-May-2019     2157.85     2160.05     2184.35    2138.80   \n",
              "494    TCS     EQ  08-May-2019     2151.95     2151.00     2168.00    2130.40   \n",
              "495    TCS     EQ  09-May-2019     2152.85     2145.00     2184.10    2136.10   \n",
              "496    TCS     EQ  10-May-2019     2172.55     2175.00     2192.00    2125.85   \n",
              "497    TCS     EQ  13-May-2019     2135.80     2133.00     2167.00    2121.65   \n",
              "\n",
              "     Last Price  Close Price  Average Price  Total Traded Quantity  \\\n",
              "0       2368.00      2365.10        2352.60                 908802   \n",
              "1       2425.10      2429.15        2410.26                1800513   \n",
              "2       2450.00      2455.35        2443.31                1438099   \n",
              "3       2525.00      2536.20        2525.78                2569297   \n",
              "4       2503.85      2507.15        2506.58                 893022   \n",
              "..          ...          ...            ...                    ...   \n",
              "493     2154.00      2151.95        2163.53                2201698   \n",
              "494     2156.00      2152.85        2151.85                1824895   \n",
              "495     2171.20      2172.55        2166.98                2264162   \n",
              "496     2130.25      2135.80        2161.83                2039633   \n",
              "497     2134.00      2128.75        2143.87                1701744   \n",
              "\n",
              "         Turnover  No. of Trades  Deliverable Qty  % Dly Qt to Traded Qty  \n",
              "0    2.138043e+09          30047           712450                   78.39  \n",
              "1    4.339703e+09          58476          1167534                   64.84  \n",
              "2    3.513729e+09          86412          1031752                   71.74  \n",
              "3    6.489478e+09         111566          1135613                   44.20  \n",
              "4    2.238430e+09          63112           517461                   57.94  \n",
              "..            ...            ...              ...                     ...  \n",
              "493  4.763441e+09          86096           975603                   44.31  \n",
              "494  3.926902e+09          77713           781526                   42.83  \n",
              "495  4.906405e+09         106297          1251459                   55.27  \n",
              "496  4.409349e+09          85446           873181                   42.81  \n",
              "497  3.648325e+09          74014           677242                   39.80  \n",
              "\n",
              "[494 rows x 15 columns]"
            ]
          },
          "metadata": {
            "tags": []
          },
          "execution_count": 2
        }
      ]
    },
    {
      "cell_type": "markdown",
      "metadata": {
        "id": "5n_pKpzSvxHF",
        "colab_type": "text"
      },
      "source": [
        "### Query 1.2\n",
        "Calculate the maximum, minimum and mean price for the last 90 days. (price=Closing Price unless stated otherwise)"
      ]
    },
    {
      "cell_type": "code",
      "metadata": {
        "id": "HEvZGYUMvxHF",
        "colab_type": "code",
        "colab": {},
        "outputId": "f87064c6-27bf-4624-dced-7d68a9f22443"
      },
      "source": [
        "max_price = dataset['Close Price'][len(dataset['Close Price']) - 90 :].max()\n",
        "min_price = dataset['Close Price'][len(dataset['Close Price']) - 90 :].min()\n",
        "avg_price = dataset['Close Price'][len(dataset['Close Price']) - 90 :].mean()\n",
        "\n",
        "print('The Minimum Price for the Jetairways in last 90 days is:% 3.2f\\n'\n",
        "      'The Maximum Price for the Jetairways in last 90 days is:% 3.2f\\n' \n",
        "      'The Average Price for the Jetairways in last 90 days is:% 3.2f'\n",
        "      %(min_price, max_price,avg_price))"
      ],
      "execution_count": null,
      "outputs": [
        {
          "output_type": "stream",
          "text": [
            "The Minimum Price for the Jetairways in last 90 days is: 1813.25\n",
            "The Maximum Price for the Jetairways in last 90 days is: 2260.35\n",
            "The Average Price for the Jetairways in last 90 days is: 2015.47\n"
          ],
          "name": "stdout"
        }
      ]
    },
    {
      "cell_type": "markdown",
      "metadata": {
        "id": "t3SpkKHXvxHH",
        "colab_type": "text"
      },
      "source": [
        "### Query 1.3\n",
        "Analyse the data types for each column of the dataframe. Pandas knows how to deal with dates in an intelligent manner. But to make use of Pandas functionality for dates, you need to ensure that the column is of type 'datetime64(ns)'. Change the date column from 'object' type to 'datetime64(ns)' for future convenience. See what happens if you subtract the minimum value of the date column from the maximum value.\n"
      ]
    },
    {
      "cell_type": "code",
      "metadata": {
        "id": "Q0h_YoekvxHI",
        "colab_type": "code",
        "colab": {},
        "outputId": "25551d5d-3a3f-4c67-bfa6-bdb01a3112da"
      },
      "source": [
        "dataset['Date'] = dataset['Date'].astype(dtype = 'datetime64')\n",
        "dataset['Date'].max() - dataset['Date'].min()"
      ],
      "execution_count": null,
      "outputs": [
        {
          "output_type": "execute_result",
          "data": {
            "text/plain": [
              "Timedelta('728 days 00:00:00')"
            ]
          },
          "metadata": {
            "tags": []
          },
          "execution_count": 4
        }
      ]
    },
    {
      "cell_type": "markdown",
      "metadata": {
        "id": "w52jQF1TvxHK",
        "colab_type": "text"
      },
      "source": [
        "### Query 1.4\n",
        "In a separate array , calculate the monthwise VWAP (Volume Weighted Average Price ) of the stock. \n",
        "( VWAP = sum(price*volume)/sum(volume) ) "
      ]
    },
    {
      "cell_type": "code",
      "metadata": {
        "id": "MqKshnutvxHL",
        "colab_type": "code",
        "colab": {}
      },
      "source": [
        "dataset['Year'] = dataset['Date'].dt.year\n",
        "dataset['Month'] = dataset['Date'].dt.month\n",
        "dataset['Day'] = dataset['Date'].dt.day"
      ],
      "execution_count": null,
      "outputs": []
    },
    {
      "cell_type": "code",
      "metadata": {
        "id": "iJo7tkApvxHN",
        "colab_type": "code",
        "colab": {}
      },
      "source": [
        "df1 = dataset[['Year','Month','Total Traded Quantity']].groupby(by = ['Month','Year']).sum()\n",
        "df2 = dataset[['Year','Month','Turnover']].groupby(by = ['Month','Year']).sum()\n",
        "q = df2['Turnover']/df1['Total Traded Quantity']"
      ],
      "execution_count": null,
      "outputs": []
    },
    {
      "cell_type": "code",
      "metadata": {
        "id": "eE7Zrr_KvxHQ",
        "colab_type": "code",
        "colab": {},
        "outputId": "acfa33b9-327c-4f58-dee6-a0b06961f7ea"
      },
      "source": [
        "print('The monthwise VWAP (Volume Weighted Average Price) is: ')\n",
        "q"
      ],
      "execution_count": null,
      "outputs": [
        {
          "output_type": "stream",
          "text": [
            "The monthwise VWAP (Volume Weighted Average Price) is: \n"
          ],
          "name": "stdout"
        },
        {
          "output_type": "execute_result",
          "data": {
            "text/plain": [
              "Month  Year\n",
              "1      2018    2933.973468\n",
              "       2019    1894.680847\n",
              "2      2018    3020.004849\n",
              "       2019    2002.311561\n",
              "3      2018    2887.865017\n",
              "       2019    2006.245386\n",
              "4      2018    3302.247963\n",
              "       2019    2104.621119\n",
              "5      2017    2515.494021\n",
              "       2018    3252.348638\n",
              "       2019    2165.051122\n",
              "6      2017    2487.607738\n",
              "       2018    1808.625744\n",
              "7      2017    2451.366915\n",
              "       2018    1941.836943\n",
              "8      2017    2498.003351\n",
              "       2018    2014.003394\n",
              "9      2017    2484.382745\n",
              "       2018    2103.881372\n",
              "10     2017    2533.515884\n",
              "       2018    1979.371631\n",
              "11     2017    2696.752315\n",
              "       2018    1900.387804\n",
              "12     2017    2610.472420\n",
              "       2018    1962.744234\n",
              "dtype: float64"
            ]
          },
          "metadata": {
            "tags": []
          },
          "execution_count": 7
        }
      ]
    },
    {
      "cell_type": "markdown",
      "metadata": {
        "id": "Kd9hNsdcvxHS",
        "colab_type": "text"
      },
      "source": [
        "### Query 1.5\n",
        "Write a function to calculate the average price over the last N days of the stock price data where N is a user defined parameter. Write a second function to calculate the profit/loss percentage over the last N days.\n",
        "Calculate the average price AND the profit/loss percentages over the course of last -\n",
        "1 week, 2 weeks, 1 month, 3 months, 6 months and 1 year."
      ]
    },
    {
      "cell_type": "code",
      "metadata": {
        "id": "0J3jxP15vxHS",
        "colab_type": "code",
        "colab": {}
      },
      "source": [
        "def N_day_avg_price(N = 1):\n",
        "    return dataset['Average Price'][len(dataset) - N:].mean()"
      ],
      "execution_count": null,
      "outputs": []
    },
    {
      "cell_type": "code",
      "metadata": {
        "id": "Q0R97zxTvxHU",
        "colab_type": "code",
        "colab": {}
      },
      "source": [
        "def profit_loss_percent(N = 1):\n",
        "    return (dataset['Close Price'][len(dataset)-1] - dataset['Close Price'][N])/dataset['Close Price'][N]*100"
      ],
      "execution_count": null,
      "outputs": []
    },
    {
      "cell_type": "code",
      "metadata": {
        "id": "m2RrDssEvxHW",
        "colab_type": "code",
        "colab": {},
        "outputId": "046b8a54-9f08-4eff-88ae-d5917bd4c18c"
      },
      "source": [
        "print('The Average Price over last 1 Week is: %3.2f ' %(N_day_avg_price(7)))\n",
        "print(\"The Average Price over last 2 Weeks is: %3.2f \"  %(N_day_avg_price(14)))\n",
        "print(\"The Average Price over last 1 Month is: %3.2f \"  %(N_day_avg_price(30)))\n",
        "print(\"The Average Price over last 6 Months is: %3.2f \" %(N_day_avg_price(30*6)))\n",
        "print(\"The Average Price over last year is: %3.2f \"  %(N_day_avg_price(365)))"
      ],
      "execution_count": null,
      "outputs": [
        {
          "output_type": "stream",
          "text": [
            "The Average Price over last 1 Week is: 2155.88 \n",
            "The Average Price over last 2 Weeks is: 2176.55 \n",
            "The Average Price over last 1 Month is: 2109.88 \n",
            "The Average Price over last 6 Months is: 2002.59 \n",
            "The Average Price over last year is: 2345.44 \n"
          ],
          "name": "stdout"
        }
      ]
    },
    {
      "cell_type": "code",
      "metadata": {
        "id": "CFcy705HvxHY",
        "colab_type": "code",
        "colab": {},
        "outputId": "256c07fc-df7c-48b0-84fd-0482e4847921"
      },
      "source": [
        "print('The Profit/Loss percentage over last 1 Week is: %3.2f ' %(profit_loss_percent(7)))\n",
        "print(\"The Profit/Loss percentage over last 2 Weeks is: %3.2f \"  %(profit_loss_percent(14)))\n",
        "print(\"The Profit/Loss percentage over last 1 Month is: %3.2f \"  %(profit_loss_percent(30)))\n",
        "print(\"The Profit/Loss percentage over last 6 Months is: %3.2f \" %(profit_loss_percent(30*6)))\n",
        "print(\"The Profit/Loss percentage over last year is: %3.2f \"  %(profit_loss_percent(365)))"
      ],
      "execution_count": null,
      "outputs": [
        {
          "output_type": "stream",
          "text": [
            "The Profit/Loss percentage over last 1 Week is: -15.91 \n",
            "The Profit/Loss percentage over last 2 Weeks is: -16.10 \n",
            "The Profit/Loss percentage over last 1 Month is: -8.15 \n",
            "The Profit/Loss percentage over last 6 Months is: -30.86 \n",
            "The Profit/Loss percentage over last year is: 11.17 \n"
          ],
          "name": "stdout"
        }
      ]
    },
    {
      "cell_type": "markdown",
      "metadata": {
        "id": "P-8Da-POvxHa",
        "colab_type": "text"
      },
      "source": [
        "### Query 1.6\n",
        "Add a column 'Day_Perc_Change' where the values are the daily change in percentages i.e. the percentage change between 2 consecutive day's closing prices. Instead of using the basic mathematical formula for computing the same, use 'pct_change()' function provided by Pandas for dataframes. You will note that the first entry of the column will have a ‘Nan’ value. Why does this happen? Either remove the first row, or set the entry to 0 before proceeding."
      ]
    },
    {
      "cell_type": "code",
      "metadata": {
        "id": "KXn8rIYivxHb",
        "colab_type": "code",
        "colab": {}
      },
      "source": [
        "dataset['Day_Prec_Change'] = dataset['Close Price'].pct_change()*100\n",
        "dataset['Day_Prec_Change'][0] = 0.000"
      ],
      "execution_count": null,
      "outputs": []
    },
    {
      "cell_type": "markdown",
      "metadata": {
        "id": "BrRGqnllvxHd",
        "colab_type": "text"
      },
      "source": [
        "### Query 1.7\n",
        "Add another column 'Trend' whose values are: <br>\n",
        "* 'Slight or No change' for 'Day_Perc_Change' in between -0.5 and 0.5<br>\n",
        "* 'Slight positive' for 'Day_Perc_Change' in between 0.5 and 1<br>\n",
        "* 'Slight negative' for 'Day_Perc_Change' in between -0.5 and -1<br>\n",
        "* 'Positive' for 'Day_Perc_Change' in between 1 and 3<br>\n",
        "* 'Negative' for 'Day_Perc_Change' in between -1 and -3<br>\n",
        "* 'Among top gainers' for 'Day_Perc_Change' in between 3 and 7<br>\n",
        "* 'Among top losers' for 'Day_Perc_Change' in between -3 and -7<br>\n",
        "* 'Bull run' for 'Day_Perc_Change' >7<br>\n",
        "* 'Bear drop' for 'Day_Perc_Change' <-7<br>"
      ]
    },
    {
      "cell_type": "code",
      "metadata": {
        "id": "KAh4VPk-vxHd",
        "colab_type": "code",
        "colab": {},
        "outputId": "8af8cfda-6304-4cc2-e463-5c84178a9159"
      },
      "source": [
        "dataset['Trend'] = np.nan\n",
        "for i in range(len(dataset)):\n",
        "    if dataset['Day_Prec_Change'][i] > -0.5 and dataset['Day_Prec_Change'][i] < 0.5:\n",
        "        dataset['Trend'][i] = 'Slight or No Change'\n",
        "    elif dataset['Day_Prec_Change'][i] > 0.5 and dataset['Day_Prec_Change'][i] < 1:\n",
        "        dataset['Trend'][i] = 'Slight positive'\n",
        "    elif dataset['Day_Prec_Change'][i] > 1 and dataset['Day_Prec_Change'][i] < 3:\n",
        "        dataset['Trend'][i] = 'Positive'\n",
        "    elif dataset['Day_Prec_Change'][i] > 3 and dataset['Day_Prec_Change'][i] < 7:\n",
        "        dataset['Trend'][i] = 'Among top gainers'\n",
        "    elif dataset['Day_Prec_Change'][i] > 7:\n",
        "        dataset['Trend'][i] = 'Bull run'\n",
        "    elif dataset['Day_Prec_Change'][i] > -1 and dataset['Day_Prec_Change'][i] < -0.5:\n",
        "        dataset['Trend'][i] = 'Slight negative'\n",
        "    elif dataset['Day_Prec_Change'][i] > -3 and dataset['Day_Prec_Change'][i] < -1:\n",
        "        dataset['Trend'][i] = 'Negative'\n",
        "    elif dataset['Day_Prec_Change'][i] > -7 and dataset['Day_Prec_Change'][i] < -3:\n",
        "        dataset['Trend'][i] = 'Among top losers'\n",
        "    elif dataset['Day_Prec_Change'][i] < -7:\n",
        "        dataset['Trend'][i] = 'Bear run'"
      ],
      "execution_count": null,
      "outputs": [
        {
          "output_type": "error",
          "ename": "KeyError",
          "evalue": "434",
          "traceback": [
            "\u001b[1;31m---------------------------------------------------------------------------\u001b[0m",
            "\u001b[1;31mKeyError\u001b[0m                                  Traceback (most recent call last)",
            "\u001b[1;32m<ipython-input-13-5a9467566e1a>\u001b[0m in \u001b[0;36m<module>\u001b[1;34m\u001b[0m\n\u001b[0;32m      1\u001b[0m \u001b[0mdataset\u001b[0m\u001b[1;33m[\u001b[0m\u001b[1;34m'Trend'\u001b[0m\u001b[1;33m]\u001b[0m \u001b[1;33m=\u001b[0m \u001b[0mnp\u001b[0m\u001b[1;33m.\u001b[0m\u001b[0mnan\u001b[0m\u001b[1;33m\u001b[0m\u001b[1;33m\u001b[0m\u001b[0m\n\u001b[0;32m      2\u001b[0m \u001b[1;32mfor\u001b[0m \u001b[0mi\u001b[0m \u001b[1;32min\u001b[0m \u001b[0mrange\u001b[0m\u001b[1;33m(\u001b[0m\u001b[0mlen\u001b[0m\u001b[1;33m(\u001b[0m\u001b[0mdataset\u001b[0m\u001b[1;33m)\u001b[0m\u001b[1;33m)\u001b[0m\u001b[1;33m:\u001b[0m\u001b[1;33m\u001b[0m\u001b[1;33m\u001b[0m\u001b[0m\n\u001b[1;32m----> 3\u001b[1;33m     \u001b[1;32mif\u001b[0m \u001b[0mdataset\u001b[0m\u001b[1;33m[\u001b[0m\u001b[1;34m'Day_Prec_Change'\u001b[0m\u001b[1;33m]\u001b[0m\u001b[1;33m[\u001b[0m\u001b[0mi\u001b[0m\u001b[1;33m]\u001b[0m \u001b[1;33m>\u001b[0m \u001b[1;33m-\u001b[0m\u001b[1;36m0.5\u001b[0m \u001b[1;32mand\u001b[0m \u001b[0mdataset\u001b[0m\u001b[1;33m[\u001b[0m\u001b[1;34m'Day_Prec_Change'\u001b[0m\u001b[1;33m]\u001b[0m\u001b[1;33m[\u001b[0m\u001b[0mi\u001b[0m\u001b[1;33m]\u001b[0m \u001b[1;33m<\u001b[0m \u001b[1;36m0.5\u001b[0m\u001b[1;33m:\u001b[0m\u001b[1;33m\u001b[0m\u001b[1;33m\u001b[0m\u001b[0m\n\u001b[0m\u001b[0;32m      4\u001b[0m         \u001b[0mdataset\u001b[0m\u001b[1;33m[\u001b[0m\u001b[1;34m'Trend'\u001b[0m\u001b[1;33m]\u001b[0m\u001b[1;33m[\u001b[0m\u001b[0mi\u001b[0m\u001b[1;33m]\u001b[0m \u001b[1;33m=\u001b[0m \u001b[1;34m'Slight or No Change'\u001b[0m\u001b[1;33m\u001b[0m\u001b[1;33m\u001b[0m\u001b[0m\n\u001b[0;32m      5\u001b[0m     \u001b[1;32melif\u001b[0m \u001b[0mdataset\u001b[0m\u001b[1;33m[\u001b[0m\u001b[1;34m'Day_Prec_Change'\u001b[0m\u001b[1;33m]\u001b[0m\u001b[1;33m[\u001b[0m\u001b[0mi\u001b[0m\u001b[1;33m]\u001b[0m \u001b[1;33m>\u001b[0m \u001b[1;36m0.5\u001b[0m \u001b[1;32mand\u001b[0m \u001b[0mdataset\u001b[0m\u001b[1;33m[\u001b[0m\u001b[1;34m'Day_Prec_Change'\u001b[0m\u001b[1;33m]\u001b[0m\u001b[1;33m[\u001b[0m\u001b[0mi\u001b[0m\u001b[1;33m]\u001b[0m \u001b[1;33m<\u001b[0m \u001b[1;36m1\u001b[0m\u001b[1;33m:\u001b[0m\u001b[1;33m\u001b[0m\u001b[1;33m\u001b[0m\u001b[0m\n",
            "\u001b[1;32m~\\anaconda3\\lib\\site-packages\\pandas\\core\\series.py\u001b[0m in \u001b[0;36m__getitem__\u001b[1;34m(self, key)\u001b[0m\n\u001b[0;32m    869\u001b[0m         \u001b[0mkey\u001b[0m \u001b[1;33m=\u001b[0m \u001b[0mcom\u001b[0m\u001b[1;33m.\u001b[0m\u001b[0mapply_if_callable\u001b[0m\u001b[1;33m(\u001b[0m\u001b[0mkey\u001b[0m\u001b[1;33m,\u001b[0m \u001b[0mself\u001b[0m\u001b[1;33m)\u001b[0m\u001b[1;33m\u001b[0m\u001b[1;33m\u001b[0m\u001b[0m\n\u001b[0;32m    870\u001b[0m         \u001b[1;32mtry\u001b[0m\u001b[1;33m:\u001b[0m\u001b[1;33m\u001b[0m\u001b[1;33m\u001b[0m\u001b[0m\n\u001b[1;32m--> 871\u001b[1;33m             \u001b[0mresult\u001b[0m \u001b[1;33m=\u001b[0m \u001b[0mself\u001b[0m\u001b[1;33m.\u001b[0m\u001b[0mindex\u001b[0m\u001b[1;33m.\u001b[0m\u001b[0mget_value\u001b[0m\u001b[1;33m(\u001b[0m\u001b[0mself\u001b[0m\u001b[1;33m,\u001b[0m \u001b[0mkey\u001b[0m\u001b[1;33m)\u001b[0m\u001b[1;33m\u001b[0m\u001b[1;33m\u001b[0m\u001b[0m\n\u001b[0m\u001b[0;32m    872\u001b[0m \u001b[1;33m\u001b[0m\u001b[0m\n\u001b[0;32m    873\u001b[0m             \u001b[1;32mif\u001b[0m \u001b[1;32mnot\u001b[0m \u001b[0mis_scalar\u001b[0m\u001b[1;33m(\u001b[0m\u001b[0mresult\u001b[0m\u001b[1;33m)\u001b[0m\u001b[1;33m:\u001b[0m\u001b[1;33m\u001b[0m\u001b[1;33m\u001b[0m\u001b[0m\n",
            "\u001b[1;32m~\\anaconda3\\lib\\site-packages\\pandas\\core\\indexes\\base.py\u001b[0m in \u001b[0;36mget_value\u001b[1;34m(self, series, key)\u001b[0m\n\u001b[0;32m   4403\u001b[0m         \u001b[0mk\u001b[0m \u001b[1;33m=\u001b[0m \u001b[0mself\u001b[0m\u001b[1;33m.\u001b[0m\u001b[0m_convert_scalar_indexer\u001b[0m\u001b[1;33m(\u001b[0m\u001b[0mk\u001b[0m\u001b[1;33m,\u001b[0m \u001b[0mkind\u001b[0m\u001b[1;33m=\u001b[0m\u001b[1;34m\"getitem\"\u001b[0m\u001b[1;33m)\u001b[0m\u001b[1;33m\u001b[0m\u001b[1;33m\u001b[0m\u001b[0m\n\u001b[0;32m   4404\u001b[0m         \u001b[1;32mtry\u001b[0m\u001b[1;33m:\u001b[0m\u001b[1;33m\u001b[0m\u001b[1;33m\u001b[0m\u001b[0m\n\u001b[1;32m-> 4405\u001b[1;33m             \u001b[1;32mreturn\u001b[0m \u001b[0mself\u001b[0m\u001b[1;33m.\u001b[0m\u001b[0m_engine\u001b[0m\u001b[1;33m.\u001b[0m\u001b[0mget_value\u001b[0m\u001b[1;33m(\u001b[0m\u001b[0ms\u001b[0m\u001b[1;33m,\u001b[0m \u001b[0mk\u001b[0m\u001b[1;33m,\u001b[0m \u001b[0mtz\u001b[0m\u001b[1;33m=\u001b[0m\u001b[0mgetattr\u001b[0m\u001b[1;33m(\u001b[0m\u001b[0mseries\u001b[0m\u001b[1;33m.\u001b[0m\u001b[0mdtype\u001b[0m\u001b[1;33m,\u001b[0m \u001b[1;34m\"tz\"\u001b[0m\u001b[1;33m,\u001b[0m \u001b[1;32mNone\u001b[0m\u001b[1;33m)\u001b[0m\u001b[1;33m)\u001b[0m\u001b[1;33m\u001b[0m\u001b[1;33m\u001b[0m\u001b[0m\n\u001b[0m\u001b[0;32m   4406\u001b[0m         \u001b[1;32mexcept\u001b[0m \u001b[0mKeyError\u001b[0m \u001b[1;32mas\u001b[0m \u001b[0me1\u001b[0m\u001b[1;33m:\u001b[0m\u001b[1;33m\u001b[0m\u001b[1;33m\u001b[0m\u001b[0m\n\u001b[0;32m   4407\u001b[0m             \u001b[1;32mif\u001b[0m \u001b[0mlen\u001b[0m\u001b[1;33m(\u001b[0m\u001b[0mself\u001b[0m\u001b[1;33m)\u001b[0m \u001b[1;33m>\u001b[0m \u001b[1;36m0\u001b[0m \u001b[1;32mand\u001b[0m \u001b[1;33m(\u001b[0m\u001b[0mself\u001b[0m\u001b[1;33m.\u001b[0m\u001b[0mholds_integer\u001b[0m\u001b[1;33m(\u001b[0m\u001b[1;33m)\u001b[0m \u001b[1;32mor\u001b[0m \u001b[0mself\u001b[0m\u001b[1;33m.\u001b[0m\u001b[0mis_boolean\u001b[0m\u001b[1;33m(\u001b[0m\u001b[1;33m)\u001b[0m\u001b[1;33m)\u001b[0m\u001b[1;33m:\u001b[0m\u001b[1;33m\u001b[0m\u001b[1;33m\u001b[0m\u001b[0m\n",
            "\u001b[1;32mpandas\\_libs\\index.pyx\u001b[0m in \u001b[0;36mpandas._libs.index.IndexEngine.get_value\u001b[1;34m()\u001b[0m\n",
            "\u001b[1;32mpandas\\_libs\\index.pyx\u001b[0m in \u001b[0;36mpandas._libs.index.IndexEngine.get_value\u001b[1;34m()\u001b[0m\n",
            "\u001b[1;32mpandas\\_libs\\index.pyx\u001b[0m in \u001b[0;36mpandas._libs.index.IndexEngine.get_loc\u001b[1;34m()\u001b[0m\n",
            "\u001b[1;32mpandas\\_libs\\hashtable_class_helper.pxi\u001b[0m in \u001b[0;36mpandas._libs.hashtable.Int64HashTable.get_item\u001b[1;34m()\u001b[0m\n",
            "\u001b[1;32mpandas\\_libs\\hashtable_class_helper.pxi\u001b[0m in \u001b[0;36mpandas._libs.hashtable.Int64HashTable.get_item\u001b[1;34m()\u001b[0m\n",
            "\u001b[1;31mKeyError\u001b[0m: 434"
          ]
        }
      ]
    },
    {
      "cell_type": "markdown",
      "metadata": {
        "id": "lYvRMA_kvxHf",
        "colab_type": "text"
      },
      "source": [
        "### Query 1.8\n",
        "Find the average and median values of the column 'Total Traded Quantity' for each of the types of 'Trend'."
      ]
    },
    {
      "cell_type": "code",
      "metadata": {
        "id": "iIWRmlApvxHg",
        "colab_type": "code",
        "colab": {},
        "outputId": "6fe3848e-e8ee-4167-912f-1da084499510"
      },
      "source": [
        "print('The Average of the Total Traded Quantity grouped by Trend is:')\n",
        "dataset[['Trend','Total Traded Quantity']].groupby(by = ['Trend']).mean()"
      ],
      "execution_count": null,
      "outputs": [
        {
          "output_type": "stream",
          "text": [
            "The Average of the Total Traded Quantity grouped by Trend is:\n"
          ],
          "name": "stdout"
        },
        {
          "output_type": "execute_result",
          "data": {
            "text/html": [
              "<div>\n",
              "<style scoped>\n",
              "    .dataframe tbody tr th:only-of-type {\n",
              "        vertical-align: middle;\n",
              "    }\n",
              "\n",
              "    .dataframe tbody tr th {\n",
              "        vertical-align: top;\n",
              "    }\n",
              "\n",
              "    .dataframe thead th {\n",
              "        text-align: right;\n",
              "    }\n",
              "</style>\n",
              "<table border=\"1\" class=\"dataframe\">\n",
              "  <thead>\n",
              "    <tr style=\"text-align: right;\">\n",
              "      <th></th>\n",
              "      <th>Total Traded Quantity</th>\n",
              "    </tr>\n",
              "    <tr>\n",
              "      <th>Trend</th>\n",
              "      <th></th>\n",
              "    </tr>\n",
              "  </thead>\n",
              "  <tbody>\n",
              "    <tr>\n",
              "      <th>Among top gainers</th>\n",
              "      <td>4.537488e+06</td>\n",
              "    </tr>\n",
              "    <tr>\n",
              "      <th>Among top losers</th>\n",
              "      <td>8.484349e+06</td>\n",
              "    </tr>\n",
              "    <tr>\n",
              "      <th>Bear run</th>\n",
              "      <td>5.049371e+06</td>\n",
              "    </tr>\n",
              "    <tr>\n",
              "      <th>Negative</th>\n",
              "      <td>1.909711e+06</td>\n",
              "    </tr>\n",
              "    <tr>\n",
              "      <th>Positive</th>\n",
              "      <td>2.152077e+06</td>\n",
              "    </tr>\n",
              "    <tr>\n",
              "      <th>Slight negative</th>\n",
              "      <td>1.637151e+06</td>\n",
              "    </tr>\n",
              "    <tr>\n",
              "      <th>Slight or No Change</th>\n",
              "      <td>1.589814e+06</td>\n",
              "    </tr>\n",
              "    <tr>\n",
              "      <th>Slight positive</th>\n",
              "      <td>1.545682e+06</td>\n",
              "    </tr>\n",
              "  </tbody>\n",
              "</table>\n",
              "</div>"
            ],
            "text/plain": [
              "                     Total Traded Quantity\n",
              "Trend                                     \n",
              "Among top gainers             4.537488e+06\n",
              "Among top losers              8.484349e+06\n",
              "Bear run                      5.049371e+06\n",
              "Negative                      1.909711e+06\n",
              "Positive                      2.152077e+06\n",
              "Slight negative               1.637151e+06\n",
              "Slight or No Change           1.589814e+06\n",
              "Slight positive               1.545682e+06"
            ]
          },
          "metadata": {
            "tags": []
          },
          "execution_count": 14
        }
      ]
    },
    {
      "cell_type": "code",
      "metadata": {
        "id": "LtC0yuqKvxHh",
        "colab_type": "code",
        "colab": {},
        "outputId": "ba0b9297-7c11-4737-ea1c-2240dedec2c0"
      },
      "source": [
        "print('The Median of the Total Traded Quantity grouped by Trend is:')\n",
        "dataset[['Trend','Total Traded Quantity']].groupby(by = ['Trend']).median()"
      ],
      "execution_count": null,
      "outputs": [
        {
          "output_type": "stream",
          "text": [
            "The Median of the Total Traded Quantity grouped by Trend is:\n"
          ],
          "name": "stdout"
        },
        {
          "output_type": "execute_result",
          "data": {
            "text/html": [
              "<div>\n",
              "<style scoped>\n",
              "    .dataframe tbody tr th:only-of-type {\n",
              "        vertical-align: middle;\n",
              "    }\n",
              "\n",
              "    .dataframe tbody tr th {\n",
              "        vertical-align: top;\n",
              "    }\n",
              "\n",
              "    .dataframe thead th {\n",
              "        text-align: right;\n",
              "    }\n",
              "</style>\n",
              "<table border=\"1\" class=\"dataframe\">\n",
              "  <thead>\n",
              "    <tr style=\"text-align: right;\">\n",
              "      <th></th>\n",
              "      <th>Total Traded Quantity</th>\n",
              "    </tr>\n",
              "    <tr>\n",
              "      <th>Trend</th>\n",
              "      <th></th>\n",
              "    </tr>\n",
              "  </thead>\n",
              "  <tbody>\n",
              "    <tr>\n",
              "      <th>Among top gainers</th>\n",
              "      <td>2791421.5</td>\n",
              "    </tr>\n",
              "    <tr>\n",
              "      <th>Among top losers</th>\n",
              "      <td>3902322.0</td>\n",
              "    </tr>\n",
              "    <tr>\n",
              "      <th>Bear run</th>\n",
              "      <td>5049371.0</td>\n",
              "    </tr>\n",
              "    <tr>\n",
              "      <th>Negative</th>\n",
              "      <td>1603040.5</td>\n",
              "    </tr>\n",
              "    <tr>\n",
              "      <th>Positive</th>\n",
              "      <td>1768752.0</td>\n",
              "    </tr>\n",
              "    <tr>\n",
              "      <th>Slight negative</th>\n",
              "      <td>1382150.0</td>\n",
              "    </tr>\n",
              "    <tr>\n",
              "      <th>Slight or No Change</th>\n",
              "      <td>1302544.0</td>\n",
              "    </tr>\n",
              "    <tr>\n",
              "      <th>Slight positive</th>\n",
              "      <td>1476382.5</td>\n",
              "    </tr>\n",
              "  </tbody>\n",
              "</table>\n",
              "</div>"
            ],
            "text/plain": [
              "                     Total Traded Quantity\n",
              "Trend                                     \n",
              "Among top gainers                2791421.5\n",
              "Among top losers                 3902322.0\n",
              "Bear run                         5049371.0\n",
              "Negative                         1603040.5\n",
              "Positive                         1768752.0\n",
              "Slight negative                  1382150.0\n",
              "Slight or No Change              1302544.0\n",
              "Slight positive                  1476382.5"
            ]
          },
          "metadata": {
            "tags": []
          },
          "execution_count": 15
        }
      ]
    },
    {
      "cell_type": "markdown",
      "metadata": {
        "id": "zDLnKj9WvxHk",
        "colab_type": "text"
      },
      "source": [
        "### Query 1.9\n",
        "SAVE the dataframe with the additional columns computed as a csv file week2.csv. In Module 2, you are going to get familiar with matplotlib, the python module which is used to visualize data.\n"
      ]
    },
    {
      "cell_type": "code",
      "metadata": {
        "id": "aD4vXv1YvxHk",
        "colab_type": "code",
        "colab": {}
      },
      "source": [
        "export_csv = dataset.to_csv (r'week2.csv', index = None, header=True)"
      ],
      "execution_count": null,
      "outputs": []
    },
    {
      "cell_type": "code",
      "metadata": {
        "id": "mpubEfCEvxHm",
        "colab_type": "code",
        "colab": {}
      },
      "source": [
        ""
      ],
      "execution_count": null,
      "outputs": []
    },
    {
      "cell_type": "code",
      "metadata": {
        "id": "xSvGcao9vxHo",
        "colab_type": "code",
        "colab": {}
      },
      "source": [
        ""
      ],
      "execution_count": null,
      "outputs": []
    }
  ]
}